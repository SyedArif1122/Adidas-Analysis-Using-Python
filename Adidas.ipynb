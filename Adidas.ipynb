{
 "cells": [
  {
   "cell_type": "markdown",
   "id": "c068a1d0",
   "metadata": {},
   "source": [
    "# Analyzing Adidas sales Data with Python"
   ]
  },
  {
   "cell_type": "markdown",
   "id": "1b3ba75c",
   "metadata": {},
   "source": [
    "Problem Statement\n",
    "The objective of this assignment is to analyze the Adidas sales database and identify key insights to help improve sales performance and optimize business strategies. By examining the sales data, we aim to understand factors influencing sales, identify trends, and uncover opportunities for growth. The analysis will be conducted using Advanced Python visualizations and filters to provide an interactive and insightful dashboard."
   ]
  },
  {
   "cell_type": "markdown",
   "id": "6ff2a48f",
   "metadata": {},
   "source": [
    "# Import Library"
   ]
  },
  {
   "cell_type": "code",
   "execution_count": 1,
   "id": "df179ad8",
   "metadata": {},
   "outputs": [],
   "source": [
    "import pandas as pd"
   ]
  },
  {
   "cell_type": "code",
   "execution_count": 2,
   "id": "517a0fd1",
   "metadata": {},
   "outputs": [
    {
     "name": "stderr",
     "output_type": "stream",
     "text": [
      "C:\\Users\\Syed Arif\\anaconda3\\lib\\site-packages\\scipy\\__init__.py:146: UserWarning: A NumPy version >=1.16.5 and <1.23.0 is required for this version of SciPy (detected version 1.25.1\n",
      "  warnings.warn(f\"A NumPy version >={np_minversion} and <{np_maxversion}\"\n"
     ]
    }
   ],
   "source": [
    "import pandas as pd\n",
    "import seaborn as sns\n",
    "import matplotlib.pyplot as plt\n",
    "import seaborn as sns"
   ]
  },
  {
   "cell_type": "markdown",
   "id": "4b0eb245",
   "metadata": {},
   "source": [
    "# Uploading Csv fle"
   ]
  },
  {
   "cell_type": "code",
   "execution_count": 3,
   "id": "ddda5ead",
   "metadata": {},
   "outputs": [],
   "source": [
    "df = pd.read_csv(r\"C:\\Users\\Syed Arif\\Desktop\\AdidasSalesdata.csv\")"
   ]
  },
  {
   "cell_type": "markdown",
   "id": "c5597201",
   "metadata": {},
   "source": [
    "# Data Preprocessing\n"
   ]
  },
  {
   "cell_type": "markdown",
   "id": "aace63f6",
   "metadata": {},
   "source": [
    "# .head()"
   ]
  },
  {
   "cell_type": "markdown",
   "id": "b7a66965",
   "metadata": {},
   "source": [
    "head is used show to the By default = 5 rows in the dataset"
   ]
  },
  {
   "cell_type": "code",
   "execution_count": 4,
   "id": "1c714689",
   "metadata": {},
   "outputs": [
    {
     "data": {
      "text/html": [
       "<div>\n",
       "<style scoped>\n",
       "    .dataframe tbody tr th:only-of-type {\n",
       "        vertical-align: middle;\n",
       "    }\n",
       "\n",
       "    .dataframe tbody tr th {\n",
       "        vertical-align: top;\n",
       "    }\n",
       "\n",
       "    .dataframe thead th {\n",
       "        text-align: right;\n",
       "    }\n",
       "</style>\n",
       "<table border=\"1\" class=\"dataframe\">\n",
       "  <thead>\n",
       "    <tr style=\"text-align: right;\">\n",
       "      <th></th>\n",
       "      <th>Retailer</th>\n",
       "      <th>Retailer ID</th>\n",
       "      <th>Invoice Date</th>\n",
       "      <th>Region</th>\n",
       "      <th>State</th>\n",
       "      <th>City</th>\n",
       "      <th>Gender Type</th>\n",
       "      <th>Product Category</th>\n",
       "      <th>Price per Unit</th>\n",
       "      <th>Units Sold</th>\n",
       "      <th>Total Sales</th>\n",
       "      <th>Operating Profit</th>\n",
       "      <th>Operating Margin</th>\n",
       "      <th>Sales Method</th>\n",
       "    </tr>\n",
       "  </thead>\n",
       "  <tbody>\n",
       "    <tr>\n",
       "      <th>0</th>\n",
       "      <td>Foot Locker</td>\n",
       "      <td>1185732</td>\n",
       "      <td>Tuesday, October 26, 2021</td>\n",
       "      <td>Northeast</td>\n",
       "      <td>Pennsylvania</td>\n",
       "      <td>Philadelphia</td>\n",
       "      <td>Men</td>\n",
       "      <td>Apparel</td>\n",
       "      <td>55</td>\n",
       "      <td>125</td>\n",
       "      <td>68750</td>\n",
       "      <td>24062.5</td>\n",
       "      <td>0.35</td>\n",
       "      <td>Outlet</td>\n",
       "    </tr>\n",
       "    <tr>\n",
       "      <th>1</th>\n",
       "      <td>Foot Locker</td>\n",
       "      <td>1185732</td>\n",
       "      <td>Wednesday, October 27, 2021</td>\n",
       "      <td>Northeast</td>\n",
       "      <td>Pennsylvania</td>\n",
       "      <td>Philadelphia</td>\n",
       "      <td>Women</td>\n",
       "      <td>Apparel</td>\n",
       "      <td>45</td>\n",
       "      <td>225</td>\n",
       "      <td>101250</td>\n",
       "      <td>30375.0</td>\n",
       "      <td>0.30</td>\n",
       "      <td>Outlet</td>\n",
       "    </tr>\n",
       "    <tr>\n",
       "      <th>2</th>\n",
       "      <td>Foot Locker</td>\n",
       "      <td>1185732</td>\n",
       "      <td>Thursday, October 28, 2021</td>\n",
       "      <td>Northeast</td>\n",
       "      <td>Pennsylvania</td>\n",
       "      <td>Philadelphia</td>\n",
       "      <td>Men</td>\n",
       "      <td>Street Footwear</td>\n",
       "      <td>45</td>\n",
       "      <td>475</td>\n",
       "      <td>213750</td>\n",
       "      <td>117562.5</td>\n",
       "      <td>0.55</td>\n",
       "      <td>Outlet</td>\n",
       "    </tr>\n",
       "    <tr>\n",
       "      <th>3</th>\n",
       "      <td>Foot Locker</td>\n",
       "      <td>1185732</td>\n",
       "      <td>Friday, October 29, 2021</td>\n",
       "      <td>Northeast</td>\n",
       "      <td>Pennsylvania</td>\n",
       "      <td>Philadelphia</td>\n",
       "      <td>Men</td>\n",
       "      <td>Athletic Footwear</td>\n",
       "      <td>45</td>\n",
       "      <td>125</td>\n",
       "      <td>56250</td>\n",
       "      <td>19687.5</td>\n",
       "      <td>0.35</td>\n",
       "      <td>Outlet</td>\n",
       "    </tr>\n",
       "    <tr>\n",
       "      <th>4</th>\n",
       "      <td>Foot Locker</td>\n",
       "      <td>1185732</td>\n",
       "      <td>Saturday, October 30, 2021</td>\n",
       "      <td>Northeast</td>\n",
       "      <td>Pennsylvania</td>\n",
       "      <td>Philadelphia</td>\n",
       "      <td>Women</td>\n",
       "      <td>Street Footwear</td>\n",
       "      <td>35</td>\n",
       "      <td>175</td>\n",
       "      <td>61250</td>\n",
       "      <td>24500.0</td>\n",
       "      <td>0.40</td>\n",
       "      <td>Outlet</td>\n",
       "    </tr>\n",
       "  </tbody>\n",
       "</table>\n",
       "</div>"
      ],
      "text/plain": [
       "      Retailer  Retailer ID                 Invoice Date     Region  \\\n",
       "0  Foot Locker      1185732    Tuesday, October 26, 2021  Northeast   \n",
       "1  Foot Locker      1185732  Wednesday, October 27, 2021  Northeast   \n",
       "2  Foot Locker      1185732   Thursday, October 28, 2021  Northeast   \n",
       "3  Foot Locker      1185732     Friday, October 29, 2021  Northeast   \n",
       "4  Foot Locker      1185732   Saturday, October 30, 2021  Northeast   \n",
       "\n",
       "          State          City Gender Type   Product Category  Price per Unit  \\\n",
       "0  Pennsylvania  Philadelphia         Men            Apparel              55   \n",
       "1  Pennsylvania  Philadelphia       Women            Apparel              45   \n",
       "2  Pennsylvania  Philadelphia         Men    Street Footwear              45   \n",
       "3  Pennsylvania  Philadelphia         Men  Athletic Footwear              45   \n",
       "4  Pennsylvania  Philadelphia       Women    Street Footwear              35   \n",
       "\n",
       "   Units Sold  Total Sales  Operating Profit  Operating Margin Sales Method  \n",
       "0         125        68750           24062.5              0.35       Outlet  \n",
       "1         225       101250           30375.0              0.30       Outlet  \n",
       "2         475       213750          117562.5              0.55       Outlet  \n",
       "3         125        56250           19687.5              0.35       Outlet  \n",
       "4         175        61250           24500.0              0.40       Outlet  "
      ]
     },
     "execution_count": 4,
     "metadata": {},
     "output_type": "execute_result"
    }
   ],
   "source": [
    "df.head()"
   ]
  },
  {
   "cell_type": "markdown",
   "id": "8684a0d2",
   "metadata": {},
   "source": [
    "# .tail()"
   ]
  },
  {
   "cell_type": "markdown",
   "id": "dc1a3074",
   "metadata": {},
   "source": [
    "tail is used to show rows by Descending order"
   ]
  },
  {
   "cell_type": "code",
   "execution_count": 5,
   "id": "13069e51",
   "metadata": {},
   "outputs": [
    {
     "data": {
      "text/html": [
       "<div>\n",
       "<style scoped>\n",
       "    .dataframe tbody tr th:only-of-type {\n",
       "        vertical-align: middle;\n",
       "    }\n",
       "\n",
       "    .dataframe tbody tr th {\n",
       "        vertical-align: top;\n",
       "    }\n",
       "\n",
       "    .dataframe thead th {\n",
       "        text-align: right;\n",
       "    }\n",
       "</style>\n",
       "<table border=\"1\" class=\"dataframe\">\n",
       "  <thead>\n",
       "    <tr style=\"text-align: right;\">\n",
       "      <th></th>\n",
       "      <th>Retailer</th>\n",
       "      <th>Retailer ID</th>\n",
       "      <th>Invoice Date</th>\n",
       "      <th>Region</th>\n",
       "      <th>State</th>\n",
       "      <th>City</th>\n",
       "      <th>Gender Type</th>\n",
       "      <th>Product Category</th>\n",
       "      <th>Price per Unit</th>\n",
       "      <th>Units Sold</th>\n",
       "      <th>Total Sales</th>\n",
       "      <th>Operating Profit</th>\n",
       "      <th>Operating Margin</th>\n",
       "      <th>Sales Method</th>\n",
       "    </tr>\n",
       "  </thead>\n",
       "  <tbody>\n",
       "    <tr>\n",
       "      <th>9643</th>\n",
       "      <td>West Gear</td>\n",
       "      <td>1128299</td>\n",
       "      <td>Saturday, March 14, 2020</td>\n",
       "      <td>West</td>\n",
       "      <td>Nevada</td>\n",
       "      <td>Las Vegas</td>\n",
       "      <td>Women</td>\n",
       "      <td>Apparel</td>\n",
       "      <td>56</td>\n",
       "      <td>170</td>\n",
       "      <td>9520</td>\n",
       "      <td>1713.60</td>\n",
       "      <td>0.18</td>\n",
       "      <td>Outlet</td>\n",
       "    </tr>\n",
       "    <tr>\n",
       "      <th>9644</th>\n",
       "      <td>West Gear</td>\n",
       "      <td>1128299</td>\n",
       "      <td>Sunday, March 15, 2020</td>\n",
       "      <td>West</td>\n",
       "      <td>Nevada</td>\n",
       "      <td>Las Vegas</td>\n",
       "      <td>Men</td>\n",
       "      <td>Street Footwear</td>\n",
       "      <td>20</td>\n",
       "      <td>149</td>\n",
       "      <td>2980</td>\n",
       "      <td>1192.00</td>\n",
       "      <td>0.40</td>\n",
       "      <td>Outlet</td>\n",
       "    </tr>\n",
       "    <tr>\n",
       "      <th>9645</th>\n",
       "      <td>West Gear</td>\n",
       "      <td>1128299</td>\n",
       "      <td>Monday, March 16, 2020</td>\n",
       "      <td>West</td>\n",
       "      <td>Nevada</td>\n",
       "      <td>Las Vegas</td>\n",
       "      <td>Men</td>\n",
       "      <td>Athletic Footwear</td>\n",
       "      <td>31</td>\n",
       "      <td>145</td>\n",
       "      <td>4495</td>\n",
       "      <td>1123.75</td>\n",
       "      <td>0.25</td>\n",
       "      <td>Outlet</td>\n",
       "    </tr>\n",
       "    <tr>\n",
       "      <th>9646</th>\n",
       "      <td>West Gear</td>\n",
       "      <td>1128299</td>\n",
       "      <td>Tuesday, March 17, 2020</td>\n",
       "      <td>West</td>\n",
       "      <td>Nevada</td>\n",
       "      <td>Las Vegas</td>\n",
       "      <td>Women</td>\n",
       "      <td>Street Footwear</td>\n",
       "      <td>26</td>\n",
       "      <td>128</td>\n",
       "      <td>3328</td>\n",
       "      <td>1397.76</td>\n",
       "      <td>0.42</td>\n",
       "      <td>Outlet</td>\n",
       "    </tr>\n",
       "    <tr>\n",
       "      <th>9647</th>\n",
       "      <td>West Gear</td>\n",
       "      <td>1128299</td>\n",
       "      <td>Wednesday, March 18, 2020</td>\n",
       "      <td>West</td>\n",
       "      <td>Nevada</td>\n",
       "      <td>Las Vegas</td>\n",
       "      <td>Women</td>\n",
       "      <td>Athletic Footwear</td>\n",
       "      <td>26</td>\n",
       "      <td>96</td>\n",
       "      <td>2496</td>\n",
       "      <td>848.64</td>\n",
       "      <td>0.34</td>\n",
       "      <td>Outlet</td>\n",
       "    </tr>\n",
       "  </tbody>\n",
       "</table>\n",
       "</div>"
      ],
      "text/plain": [
       "       Retailer  Retailer ID               Invoice Date Region   State  \\\n",
       "9643  West Gear      1128299   Saturday, March 14, 2020   West  Nevada   \n",
       "9644  West Gear      1128299     Sunday, March 15, 2020   West  Nevada   \n",
       "9645  West Gear      1128299     Monday, March 16, 2020   West  Nevada   \n",
       "9646  West Gear      1128299    Tuesday, March 17, 2020   West  Nevada   \n",
       "9647  West Gear      1128299  Wednesday, March 18, 2020   West  Nevada   \n",
       "\n",
       "           City Gender Type   Product Category  Price per Unit  Units Sold  \\\n",
       "9643  Las Vegas       Women            Apparel              56         170   \n",
       "9644  Las Vegas         Men    Street Footwear              20         149   \n",
       "9645  Las Vegas         Men  Athletic Footwear              31         145   \n",
       "9646  Las Vegas       Women    Street Footwear              26         128   \n",
       "9647  Las Vegas       Women  Athletic Footwear              26          96   \n",
       "\n",
       "      Total Sales  Operating Profit  Operating Margin Sales Method  \n",
       "9643         9520           1713.60              0.18       Outlet  \n",
       "9644         2980           1192.00              0.40       Outlet  \n",
       "9645         4495           1123.75              0.25       Outlet  \n",
       "9646         3328           1397.76              0.42       Outlet  \n",
       "9647         2496            848.64              0.34       Outlet  "
      ]
     },
     "execution_count": 5,
     "metadata": {},
     "output_type": "execute_result"
    }
   ],
   "source": [
    "df.tail()"
   ]
  },
  {
   "cell_type": "markdown",
   "id": "e76fc80f",
   "metadata": {},
   "source": [
    "# .shape"
   ]
  },
  {
   "cell_type": "markdown",
   "id": "21d6d5af",
   "metadata": {},
   "source": [
    "It show the total no of rows & Column in the dataset"
   ]
  },
  {
   "cell_type": "code",
   "execution_count": 6,
   "id": "e34d1ec4",
   "metadata": {},
   "outputs": [
    {
     "data": {
      "text/plain": [
       "(9648, 14)"
      ]
     },
     "execution_count": 6,
     "metadata": {},
     "output_type": "execute_result"
    }
   ],
   "source": [
    "df.shape"
   ]
  },
  {
   "cell_type": "markdown",
   "id": "618b8c56",
   "metadata": {},
   "source": [
    "# .Columns"
   ]
  },
  {
   "cell_type": "markdown",
   "id": "81d5b891",
   "metadata": {},
   "source": [
    "It show the no of each Column"
   ]
  },
  {
   "cell_type": "code",
   "execution_count": 7,
   "id": "d90a23ca",
   "metadata": {},
   "outputs": [
    {
     "data": {
      "text/plain": [
       "Index(['Retailer', 'Retailer ID', 'Invoice Date', 'Region', 'State', 'City',\n",
       "       'Gender Type', 'Product Category', 'Price per Unit', 'Units Sold',\n",
       "       'Total Sales', 'Operating Profit', 'Operating Margin', 'Sales Method'],\n",
       "      dtype='object')"
      ]
     },
     "execution_count": 7,
     "metadata": {},
     "output_type": "execute_result"
    }
   ],
   "source": [
    "df.columns"
   ]
  },
  {
   "cell_type": "markdown",
   "id": "4c3f8320",
   "metadata": {},
   "source": [
    "# .dtypes"
   ]
  },
  {
   "cell_type": "markdown",
   "id": "19881edc",
   "metadata": {},
   "source": [
    "This Attribute show the data type of each column"
   ]
  },
  {
   "cell_type": "code",
   "execution_count": 8,
   "id": "4a5c7bdd",
   "metadata": {},
   "outputs": [
    {
     "data": {
      "text/plain": [
       "Retailer             object\n",
       "Retailer ID           int64\n",
       "Invoice Date         object\n",
       "Region               object\n",
       "State                object\n",
       "City                 object\n",
       "Gender Type          object\n",
       "Product Category     object\n",
       "Price per Unit        int64\n",
       "Units Sold            int64\n",
       "Total Sales           int64\n",
       "Operating Profit    float64\n",
       "Operating Margin    float64\n",
       "Sales Method         object\n",
       "dtype: object"
      ]
     },
     "execution_count": 8,
     "metadata": {},
     "output_type": "execute_result"
    }
   ],
   "source": [
    "df.dtypes"
   ]
  },
  {
   "cell_type": "markdown",
   "id": "f641048a",
   "metadata": {},
   "source": [
    "# .unique()"
   ]
  },
  {
   "cell_type": "markdown",
   "id": "bf6d4f5e",
   "metadata": {},
   "source": [
    "In a column, It show the unique value of specific column."
   ]
  },
  {
   "cell_type": "code",
   "execution_count": 9,
   "id": "bb0f0dd0",
   "metadata": {},
   "outputs": [
    {
     "data": {
      "text/plain": [
       "array(['Philadelphia', 'Providence', 'New York', 'Wilmington',\n",
       "       'Manchester', 'Hartford', 'Charleston', 'Baltimore', 'Boston',\n",
       "       'Portland', 'Burlington', 'Newark', 'Albany', 'Columbus',\n",
       "       'Detroit', 'Fargo', 'Sioux Falls', 'St. Louis', 'Des Moines',\n",
       "       'Indianapolis', 'Milwaukee', 'Chicago', 'Minneapolis', 'Omaha',\n",
       "       'Wichita', 'Richmond', 'Atlanta', 'Orlando', 'Miami', 'Louisville',\n",
       "       'Charlotte', 'Salt Lake City', 'Anchorage', 'Cheyenne',\n",
       "       'Los Angeles', 'Seattle', 'Dallas', 'Knoxville', 'Birmingham',\n",
       "       'Jackson', 'Billings', 'New Orleans', 'Houston', 'Oklahoma City',\n",
       "       'Little Rock', 'San Francisco', 'Boise', 'Honolulu', 'Albuquerque',\n",
       "       'Phoenix', 'Denver', 'Las Vegas'], dtype=object)"
      ]
     },
     "execution_count": 9,
     "metadata": {},
     "output_type": "execute_result"
    }
   ],
   "source": [
    "df[\"City\"].unique()"
   ]
  },
  {
   "cell_type": "markdown",
   "id": "f34840f6",
   "metadata": {},
   "source": [
    "# .nuique()"
   ]
  },
  {
   "cell_type": "markdown",
   "id": "73792a7b",
   "metadata": {},
   "source": [
    "It will show the total no of unque value from whole data frame"
   ]
  },
  {
   "cell_type": "code",
   "execution_count": 10,
   "id": "2e192d57",
   "metadata": {},
   "outputs": [
    {
     "data": {
      "text/plain": [
       "Retailer               6\n",
       "Retailer ID            4\n",
       "Invoice Date         724\n",
       "Region                 5\n",
       "State                 50\n",
       "City                  52\n",
       "Gender Type            2\n",
       "Product Category       3\n",
       "Price per Unit        94\n",
       "Units Sold           361\n",
       "Total Sales         3138\n",
       "Operating Profit    5618\n",
       "Operating Margin      66\n",
       "Sales Method           3\n",
       "dtype: int64"
      ]
     },
     "execution_count": 10,
     "metadata": {},
     "output_type": "execute_result"
    }
   ],
   "source": [
    "df.nunique()"
   ]
  },
  {
   "cell_type": "markdown",
   "id": "4d234903",
   "metadata": {},
   "source": [
    "# .describe()"
   ]
  },
  {
   "cell_type": "markdown",
   "id": "dff6dbc9",
   "metadata": {},
   "source": [
    "It show the Count, mean , median etc"
   ]
  },
  {
   "cell_type": "code",
   "execution_count": 11,
   "id": "dba2fda3",
   "metadata": {},
   "outputs": [
    {
     "data": {
      "text/html": [
       "<div>\n",
       "<style scoped>\n",
       "    .dataframe tbody tr th:only-of-type {\n",
       "        vertical-align: middle;\n",
       "    }\n",
       "\n",
       "    .dataframe tbody tr th {\n",
       "        vertical-align: top;\n",
       "    }\n",
       "\n",
       "    .dataframe thead th {\n",
       "        text-align: right;\n",
       "    }\n",
       "</style>\n",
       "<table border=\"1\" class=\"dataframe\">\n",
       "  <thead>\n",
       "    <tr style=\"text-align: right;\">\n",
       "      <th></th>\n",
       "      <th>Retailer ID</th>\n",
       "      <th>Price per Unit</th>\n",
       "      <th>Units Sold</th>\n",
       "      <th>Total Sales</th>\n",
       "      <th>Operating Profit</th>\n",
       "      <th>Operating Margin</th>\n",
       "    </tr>\n",
       "  </thead>\n",
       "  <tbody>\n",
       "    <tr>\n",
       "      <th>count</th>\n",
       "      <td>9.648000e+03</td>\n",
       "      <td>9648.000000</td>\n",
       "      <td>9648.000000</td>\n",
       "      <td>9648.000000</td>\n",
       "      <td>9648.000000</td>\n",
       "      <td>9648.000000</td>\n",
       "    </tr>\n",
       "    <tr>\n",
       "      <th>mean</th>\n",
       "      <td>1.173850e+06</td>\n",
       "      <td>45.216625</td>\n",
       "      <td>256.930037</td>\n",
       "      <td>93273.437500</td>\n",
       "      <td>34425.244761</td>\n",
       "      <td>0.422991</td>\n",
       "    </tr>\n",
       "    <tr>\n",
       "      <th>std</th>\n",
       "      <td>2.636038e+04</td>\n",
       "      <td>14.705397</td>\n",
       "      <td>214.252030</td>\n",
       "      <td>141916.016727</td>\n",
       "      <td>54193.113713</td>\n",
       "      <td>0.097197</td>\n",
       "    </tr>\n",
       "    <tr>\n",
       "      <th>min</th>\n",
       "      <td>1.128299e+06</td>\n",
       "      <td>7.000000</td>\n",
       "      <td>0.000000</td>\n",
       "      <td>0.000000</td>\n",
       "      <td>0.000000</td>\n",
       "      <td>0.100000</td>\n",
       "    </tr>\n",
       "    <tr>\n",
       "      <th>25%</th>\n",
       "      <td>1.185732e+06</td>\n",
       "      <td>35.000000</td>\n",
       "      <td>106.000000</td>\n",
       "      <td>4254.500000</td>\n",
       "      <td>1921.752500</td>\n",
       "      <td>0.350000</td>\n",
       "    </tr>\n",
       "    <tr>\n",
       "      <th>50%</th>\n",
       "      <td>1.185732e+06</td>\n",
       "      <td>45.000000</td>\n",
       "      <td>176.000000</td>\n",
       "      <td>9576.000000</td>\n",
       "      <td>4371.420000</td>\n",
       "      <td>0.410000</td>\n",
       "    </tr>\n",
       "    <tr>\n",
       "      <th>75%</th>\n",
       "      <td>1.185732e+06</td>\n",
       "      <td>55.000000</td>\n",
       "      <td>350.000000</td>\n",
       "      <td>150000.000000</td>\n",
       "      <td>52062.500000</td>\n",
       "      <td>0.490000</td>\n",
       "    </tr>\n",
       "    <tr>\n",
       "      <th>max</th>\n",
       "      <td>1.197831e+06</td>\n",
       "      <td>110.000000</td>\n",
       "      <td>1275.000000</td>\n",
       "      <td>825000.000000</td>\n",
       "      <td>390000.000000</td>\n",
       "      <td>0.800000</td>\n",
       "    </tr>\n",
       "  </tbody>\n",
       "</table>\n",
       "</div>"
      ],
      "text/plain": [
       "        Retailer ID  Price per Unit   Units Sold    Total Sales  \\\n",
       "count  9.648000e+03     9648.000000  9648.000000    9648.000000   \n",
       "mean   1.173850e+06       45.216625   256.930037   93273.437500   \n",
       "std    2.636038e+04       14.705397   214.252030  141916.016727   \n",
       "min    1.128299e+06        7.000000     0.000000       0.000000   \n",
       "25%    1.185732e+06       35.000000   106.000000    4254.500000   \n",
       "50%    1.185732e+06       45.000000   176.000000    9576.000000   \n",
       "75%    1.185732e+06       55.000000   350.000000  150000.000000   \n",
       "max    1.197831e+06      110.000000  1275.000000  825000.000000   \n",
       "\n",
       "       Operating Profit  Operating Margin  \n",
       "count       9648.000000       9648.000000  \n",
       "mean       34425.244761          0.422991  \n",
       "std        54193.113713          0.097197  \n",
       "min            0.000000          0.100000  \n",
       "25%         1921.752500          0.350000  \n",
       "50%         4371.420000          0.410000  \n",
       "75%        52062.500000          0.490000  \n",
       "max       390000.000000          0.800000  "
      ]
     },
     "execution_count": 11,
     "metadata": {},
     "output_type": "execute_result"
    }
   ],
   "source": [
    "df.describe()"
   ]
  },
  {
   "cell_type": "markdown",
   "id": "e0a1161b",
   "metadata": {},
   "source": [
    "# .value_counts"
   ]
  },
  {
   "cell_type": "markdown",
   "id": "dcea0077",
   "metadata": {},
   "source": [
    "It Shows all the unique values with their count"
   ]
  },
  {
   "cell_type": "code",
   "execution_count": 12,
   "id": "8a63f82e",
   "metadata": {},
   "outputs": [
    {
     "data": {
      "text/plain": [
       "Portland          360\n",
       "Charleston        288\n",
       "Philadelphia      216\n",
       "New Orleans       216\n",
       "Orlando           216\n",
       "Salt Lake City    216\n",
       "Los Angeles       216\n",
       "Dallas            216\n",
       "Knoxville         216\n",
       "Birmingham        216\n",
       "Jackson           216\n",
       "Houston           216\n",
       "Richmond          216\n",
       "Oklahoma City     216\n",
       "Little Rock       216\n",
       "San Francisco     216\n",
       "Boise             216\n",
       "Albuquerque       216\n",
       "Phoenix           216\n",
       "Providence        216\n",
       "Atlanta           216\n",
       "Las Vegas         216\n",
       "New York          216\n",
       "Manchester        216\n",
       "Hartford          216\n",
       "Boston            216\n",
       "Burlington        216\n",
       "Detroit           144\n",
       "Denver            144\n",
       "Wilmington        144\n",
       "Honolulu          144\n",
       "Baltimore         144\n",
       "Newark            144\n",
       "Billings          144\n",
       "Albany            144\n",
       "Columbus          144\n",
       "Chicago           144\n",
       "Minneapolis       144\n",
       "Seattle           144\n",
       "Sioux Falls       144\n",
       "Cheyenne          144\n",
       "Anchorage         144\n",
       "St. Louis         144\n",
       "Charlotte         144\n",
       "Louisville        144\n",
       "Miami             144\n",
       "Des Moines        144\n",
       "Indianapolis      144\n",
       "Milwaukee         144\n",
       "Wichita           144\n",
       "Omaha             144\n",
       "Fargo             144\n",
       "Name: City, dtype: int64"
      ]
     },
     "execution_count": 12,
     "metadata": {},
     "output_type": "execute_result"
    }
   ],
   "source": [
    "df[\"City\"].value_counts()"
   ]
  },
  {
   "cell_type": "markdown",
   "id": "f55f4c89",
   "metadata": {},
   "source": [
    "# .isnull()"
   ]
  },
  {
   "cell_type": "markdown",
   "id": "cb961a9d",
   "metadata": {},
   "source": [
    "It shows the how many null values"
   ]
  },
  {
   "cell_type": "code",
   "execution_count": 13,
   "id": "614ae149",
   "metadata": {},
   "outputs": [
    {
     "data": {
      "text/html": [
       "<div>\n",
       "<style scoped>\n",
       "    .dataframe tbody tr th:only-of-type {\n",
       "        vertical-align: middle;\n",
       "    }\n",
       "\n",
       "    .dataframe tbody tr th {\n",
       "        vertical-align: top;\n",
       "    }\n",
       "\n",
       "    .dataframe thead th {\n",
       "        text-align: right;\n",
       "    }\n",
       "</style>\n",
       "<table border=\"1\" class=\"dataframe\">\n",
       "  <thead>\n",
       "    <tr style=\"text-align: right;\">\n",
       "      <th></th>\n",
       "      <th>Retailer</th>\n",
       "      <th>Retailer ID</th>\n",
       "      <th>Invoice Date</th>\n",
       "      <th>Region</th>\n",
       "      <th>State</th>\n",
       "      <th>City</th>\n",
       "      <th>Gender Type</th>\n",
       "      <th>Product Category</th>\n",
       "      <th>Price per Unit</th>\n",
       "      <th>Units Sold</th>\n",
       "      <th>Total Sales</th>\n",
       "      <th>Operating Profit</th>\n",
       "      <th>Operating Margin</th>\n",
       "      <th>Sales Method</th>\n",
       "    </tr>\n",
       "  </thead>\n",
       "  <tbody>\n",
       "    <tr>\n",
       "      <th>0</th>\n",
       "      <td>False</td>\n",
       "      <td>False</td>\n",
       "      <td>False</td>\n",
       "      <td>False</td>\n",
       "      <td>False</td>\n",
       "      <td>False</td>\n",
       "      <td>False</td>\n",
       "      <td>False</td>\n",
       "      <td>False</td>\n",
       "      <td>False</td>\n",
       "      <td>False</td>\n",
       "      <td>False</td>\n",
       "      <td>False</td>\n",
       "      <td>False</td>\n",
       "    </tr>\n",
       "    <tr>\n",
       "      <th>1</th>\n",
       "      <td>False</td>\n",
       "      <td>False</td>\n",
       "      <td>False</td>\n",
       "      <td>False</td>\n",
       "      <td>False</td>\n",
       "      <td>False</td>\n",
       "      <td>False</td>\n",
       "      <td>False</td>\n",
       "      <td>False</td>\n",
       "      <td>False</td>\n",
       "      <td>False</td>\n",
       "      <td>False</td>\n",
       "      <td>False</td>\n",
       "      <td>False</td>\n",
       "    </tr>\n",
       "    <tr>\n",
       "      <th>2</th>\n",
       "      <td>False</td>\n",
       "      <td>False</td>\n",
       "      <td>False</td>\n",
       "      <td>False</td>\n",
       "      <td>False</td>\n",
       "      <td>False</td>\n",
       "      <td>False</td>\n",
       "      <td>False</td>\n",
       "      <td>False</td>\n",
       "      <td>False</td>\n",
       "      <td>False</td>\n",
       "      <td>False</td>\n",
       "      <td>False</td>\n",
       "      <td>False</td>\n",
       "    </tr>\n",
       "    <tr>\n",
       "      <th>3</th>\n",
       "      <td>False</td>\n",
       "      <td>False</td>\n",
       "      <td>False</td>\n",
       "      <td>False</td>\n",
       "      <td>False</td>\n",
       "      <td>False</td>\n",
       "      <td>False</td>\n",
       "      <td>False</td>\n",
       "      <td>False</td>\n",
       "      <td>False</td>\n",
       "      <td>False</td>\n",
       "      <td>False</td>\n",
       "      <td>False</td>\n",
       "      <td>False</td>\n",
       "    </tr>\n",
       "    <tr>\n",
       "      <th>4</th>\n",
       "      <td>False</td>\n",
       "      <td>False</td>\n",
       "      <td>False</td>\n",
       "      <td>False</td>\n",
       "      <td>False</td>\n",
       "      <td>False</td>\n",
       "      <td>False</td>\n",
       "      <td>False</td>\n",
       "      <td>False</td>\n",
       "      <td>False</td>\n",
       "      <td>False</td>\n",
       "      <td>False</td>\n",
       "      <td>False</td>\n",
       "      <td>False</td>\n",
       "    </tr>\n",
       "    <tr>\n",
       "      <th>...</th>\n",
       "      <td>...</td>\n",
       "      <td>...</td>\n",
       "      <td>...</td>\n",
       "      <td>...</td>\n",
       "      <td>...</td>\n",
       "      <td>...</td>\n",
       "      <td>...</td>\n",
       "      <td>...</td>\n",
       "      <td>...</td>\n",
       "      <td>...</td>\n",
       "      <td>...</td>\n",
       "      <td>...</td>\n",
       "      <td>...</td>\n",
       "      <td>...</td>\n",
       "    </tr>\n",
       "    <tr>\n",
       "      <th>9643</th>\n",
       "      <td>False</td>\n",
       "      <td>False</td>\n",
       "      <td>False</td>\n",
       "      <td>False</td>\n",
       "      <td>False</td>\n",
       "      <td>False</td>\n",
       "      <td>False</td>\n",
       "      <td>False</td>\n",
       "      <td>False</td>\n",
       "      <td>False</td>\n",
       "      <td>False</td>\n",
       "      <td>False</td>\n",
       "      <td>False</td>\n",
       "      <td>False</td>\n",
       "    </tr>\n",
       "    <tr>\n",
       "      <th>9644</th>\n",
       "      <td>False</td>\n",
       "      <td>False</td>\n",
       "      <td>False</td>\n",
       "      <td>False</td>\n",
       "      <td>False</td>\n",
       "      <td>False</td>\n",
       "      <td>False</td>\n",
       "      <td>False</td>\n",
       "      <td>False</td>\n",
       "      <td>False</td>\n",
       "      <td>False</td>\n",
       "      <td>False</td>\n",
       "      <td>False</td>\n",
       "      <td>False</td>\n",
       "    </tr>\n",
       "    <tr>\n",
       "      <th>9645</th>\n",
       "      <td>False</td>\n",
       "      <td>False</td>\n",
       "      <td>False</td>\n",
       "      <td>False</td>\n",
       "      <td>False</td>\n",
       "      <td>False</td>\n",
       "      <td>False</td>\n",
       "      <td>False</td>\n",
       "      <td>False</td>\n",
       "      <td>False</td>\n",
       "      <td>False</td>\n",
       "      <td>False</td>\n",
       "      <td>False</td>\n",
       "      <td>False</td>\n",
       "    </tr>\n",
       "    <tr>\n",
       "      <th>9646</th>\n",
       "      <td>False</td>\n",
       "      <td>False</td>\n",
       "      <td>False</td>\n",
       "      <td>False</td>\n",
       "      <td>False</td>\n",
       "      <td>False</td>\n",
       "      <td>False</td>\n",
       "      <td>False</td>\n",
       "      <td>False</td>\n",
       "      <td>False</td>\n",
       "      <td>False</td>\n",
       "      <td>False</td>\n",
       "      <td>False</td>\n",
       "      <td>False</td>\n",
       "    </tr>\n",
       "    <tr>\n",
       "      <th>9647</th>\n",
       "      <td>False</td>\n",
       "      <td>False</td>\n",
       "      <td>False</td>\n",
       "      <td>False</td>\n",
       "      <td>False</td>\n",
       "      <td>False</td>\n",
       "      <td>False</td>\n",
       "      <td>False</td>\n",
       "      <td>False</td>\n",
       "      <td>False</td>\n",
       "      <td>False</td>\n",
       "      <td>False</td>\n",
       "      <td>False</td>\n",
       "      <td>False</td>\n",
       "    </tr>\n",
       "  </tbody>\n",
       "</table>\n",
       "<p>9648 rows × 14 columns</p>\n",
       "</div>"
      ],
      "text/plain": [
       "      Retailer  Retailer ID  Invoice Date  Region  State   City  Gender Type  \\\n",
       "0        False        False         False   False  False  False        False   \n",
       "1        False        False         False   False  False  False        False   \n",
       "2        False        False         False   False  False  False        False   \n",
       "3        False        False         False   False  False  False        False   \n",
       "4        False        False         False   False  False  False        False   \n",
       "...        ...          ...           ...     ...    ...    ...          ...   \n",
       "9643     False        False         False   False  False  False        False   \n",
       "9644     False        False         False   False  False  False        False   \n",
       "9645     False        False         False   False  False  False        False   \n",
       "9646     False        False         False   False  False  False        False   \n",
       "9647     False        False         False   False  False  False        False   \n",
       "\n",
       "      Product Category  Price per Unit  Units Sold  Total Sales  \\\n",
       "0                False           False       False        False   \n",
       "1                False           False       False        False   \n",
       "2                False           False       False        False   \n",
       "3                False           False       False        False   \n",
       "4                False           False       False        False   \n",
       "...                ...             ...         ...          ...   \n",
       "9643             False           False       False        False   \n",
       "9644             False           False       False        False   \n",
       "9645             False           False       False        False   \n",
       "9646             False           False       False        False   \n",
       "9647             False           False       False        False   \n",
       "\n",
       "      Operating Profit  Operating Margin  Sales Method  \n",
       "0                False             False         False  \n",
       "1                False             False         False  \n",
       "2                False             False         False  \n",
       "3                False             False         False  \n",
       "4                False             False         False  \n",
       "...                ...               ...           ...  \n",
       "9643             False             False         False  \n",
       "9644             False             False         False  \n",
       "9645             False             False         False  \n",
       "9646             False             False         False  \n",
       "9647             False             False         False  \n",
       "\n",
       "[9648 rows x 14 columns]"
      ]
     },
     "execution_count": 13,
     "metadata": {},
     "output_type": "execute_result"
    }
   ],
   "source": [
    "df.isnull()"
   ]
  },
  {
   "cell_type": "markdown",
   "id": "fa596a40",
   "metadata": {},
   "source": [
    "# 1. Calculate and Visualize Overall Sales, Profit, Average Price per Unit, and Total Units Sold"
   ]
  },
  {
   "cell_type": "code",
   "execution_count": 14,
   "id": "de8ba5f0",
   "metadata": {},
   "outputs": [],
   "source": [
    "total_sale = df[\"Total Sales\"].sum()\n",
    "total_profit = df[\"Operating Profit\"].sum()\n",
    "avg_price  = df[\"Price per Unit\"].mean()\n",
    "total_unit_sold = df[\"Units Sold\"].sum()"
   ]
  },
  {
   "cell_type": "code",
   "execution_count": 15,
   "id": "b9d6b564",
   "metadata": {},
   "outputs": [
    {
     "name": "stdout",
     "output_type": "stream",
     "text": [
      "Total Sale of Adidas 899902125\n",
      "Total Profit of Adidas 332134761.45000005\n",
      "Average price of Adidas 45.21662520729685\n",
      "Total unit sold of Adidas 2478861\n"
     ]
    }
   ],
   "source": [
    "print (\"Total Sale of Adidas\" ,total_sale )\n",
    "print (\"Total Profit of Adidas\" , total_profit )\n",
    "print (\"Average price of Adidas\" , avg_price )\n",
    "print (\"Total unit sold of Adidas\" , total_unit_sold )"
   ]
  },
  {
   "cell_type": "code",
   "execution_count": 16,
   "id": "a33ee194",
   "metadata": {},
   "outputs": [
    {
     "data": {
      "image/png": "[encoded data removed]",
      "text/plain": [
       "<Figure size 576x576 with 1 Axes>"
      ]
     },
     "metadata": {},
     "output_type": "display_data"
    }
   ],
   "source": [
    "# Create a pie chart to visualize overall sales composition\n",
    "labels = ['Total Sales', 'Total Profit', 'Avg Price per Unit', 'Total Units Sold']\n",
    "values = [total_sale, total_profit, avg_price, total_unit_sold]\n",
    "plt.figure(figsize=(8, 8))\n",
    "plt.pie(values, labels=labels, autopct='%1.1f%%', startangle=140)\n",
    "plt.title('Overall Sales Metrics')\n",
    "plt.show()"
   ]
  },
  {
   "cell_type": "markdown",
   "id": "0316182a",
   "metadata": {},
   "source": [
    "# 2. Profit by Retailer"
   ]
  },
  {
   "cell_type": "code",
   "execution_count": 17,
   "id": "49ec3f5e",
   "metadata": {},
   "outputs": [],
   "source": [
    "profit_by_retailer = df.groupby('Retailer')['Operating Profit'].sum().sort_values(ascending=False)\n",
    "top_retailers = profit_by_retailer.head(10)"
   ]
  },
  {
   "cell_type": "code",
   "execution_count": 18,
   "id": "3a49dbf8",
   "metadata": {},
   "outputs": [
    {
     "data": {
      "image/png": "[encoded data removed]",
      "text/plain": [
       "<Figure size 720x432 with 1 Axes>"
      ]
     },
     "metadata": {
      "needs_background": "light"
     },
     "output_type": "display_data"
    }
   ],
   "source": [
    "# Create a bar chart to visualize profit by retailer\n",
    "plt.figure(figsize=(10, 6))\n",
    "top_retailers.plot(kind='bar', color='skyblue')\n",
    "plt.title('Profit by Retailer (Top 10)')\n",
    "plt.xlabel('Retailer')\n",
    "plt.ylabel('Operating Profit')\n",
    "plt.xticks(rotation=45)\n",
    "plt.tight_layout()"
   ]
  },
  {
   "cell_type": "markdown",
   "id": "eab69968",
   "metadata": {},
   "source": [
    "# 3. Sales Trend Over Time (Monthly)"
   ]
  },
  {
   "cell_type": "code",
   "execution_count": 19,
   "id": "472e9ffe",
   "metadata": {},
   "outputs": [],
   "source": [
    "df['Invoice Date'] = pd.to_datetime(df['Invoice Date'])\n",
    "monthly_sales = df.resample('M', on='Invoice Date')['Total Sales'].sum()"
   ]
  },
  {
   "cell_type": "markdown",
   "id": "d29bd553",
   "metadata": {},
   "source": [
    "# Create a line chart to visualize sales trend over time"
   ]
  },
  {
   "cell_type": "code",
   "execution_count": 20,
   "id": "77eddc74",
   "metadata": {},
   "outputs": [
    {
     "data": {
      "image/png": "[encoded data removed]",
      "text/plain": [
       "<Figure size 864x432 with 1 Axes>"
      ]
     },
     "metadata": {
      "needs_background": "light"
     },
     "output_type": "display_data"
    }
   ],
   "source": [
    "plt.figure(figsize=(12, 6))\n",
    "monthly_sales.plot(kind='line', marker='o', color='green')\n",
    "plt.title('Monthly Sales Trend Over Time')\n",
    "plt.xlabel('Month')\n",
    "plt.ylabel('Total Sales')\n",
    "plt.grid()"
   ]
  },
  {
   "cell_type": "markdown",
   "id": "9bcbe565",
   "metadata": {},
   "source": [
    "# 4. Product Category Sales Distribution"
   ]
  },
  {
   "cell_type": "code",
   "execution_count": 21,
   "id": "01ce7c91",
   "metadata": {},
   "outputs": [],
   "source": [
    "category_sales = df.groupby('Product Category')['Total Sales'].sum().sort_values(ascending=False)"
   ]
  },
  {
   "cell_type": "markdown",
   "id": "5c47e76e",
   "metadata": {},
   "source": [
    "# Create a bar chart to visualize product category sales distribution"
   ]
  },
  {
   "cell_type": "code",
   "execution_count": 22,
   "id": "f3cbd9a2",
   "metadata": {},
   "outputs": [
    {
     "data": {
      "image/png": "[encoded data removed]",
      "text/plain": [
       "<Figure size 720x432 with 1 Axes>"
      ]
     },
     "metadata": {
      "needs_background": "light"
     },
     "output_type": "display_data"
    }
   ],
   "source": [
    "plt.figure(figsize=(10, 6))\n",
    "category_sales.plot(kind='bar', color='purple')\n",
    "plt.title('Product Category Sales Distribution')\n",
    "plt.xlabel('Product Category')\n",
    "plt.ylabel('Total Sales')\n",
    "plt.xticks(rotation=45)\n",
    "plt.tight_layout()"
   ]
  },
  {
   "cell_type": "markdown",
   "id": "038b65cf",
   "metadata": {},
   "source": [
    "# 5. Units Sold by Product Category and Gender Type"
   ]
  },
  {
   "cell_type": "code",
   "execution_count": 23,
   "id": "a8fa94d4",
   "metadata": {},
   "outputs": [],
   "source": [
    "units_sold_by_category_gender = df.groupby(['Product Category', 'Gender Type'])['Units Sold'].sum().unstack()"
   ]
  },
  {
   "cell_type": "markdown",
   "id": "fdfb44c5",
   "metadata": {},
   "source": [
    "# Create a stacked bar chart to visualize units sold by product category and gender type"
   ]
  },
  {
   "cell_type": "code",
   "execution_count": 24,
   "id": "24a7e240",
   "metadata": {},
   "outputs": [
    {
     "data": {
      "text/plain": [
       "<Figure size 864x432 with 0 Axes>"
      ]
     },
     "metadata": {},
     "output_type": "display_data"
    },
    {
     "data": {
      "image/png": "[encoded data removed]",
      "text/plain": [
       "<Figure size 432x288 with 1 Axes>"
      ]
     },
     "metadata": {
      "needs_background": "light"
     },
     "output_type": "display_data"
    }
   ],
   "source": [
    "plt.figure(figsize=(12, 6))\n",
    "units_sold_by_category_gender.plot(kind='bar', stacked=True)\n",
    "plt.title('Units Sold by Product Category and Gender Type')\n",
    "plt.xlabel('Product Category')\n",
    "plt.ylabel('Total Units Sold')\n",
    "plt.xticks(rotation=45)\n",
    "plt.tight_layout()"
   ]
  },
  {
   "cell_type": "markdown",
   "id": "0f1bbfa7",
   "metadata": {},
   "source": [
    "# 6. Effective Sales Methods\n"
   ]
  },
  {
   "cell_type": "code",
   "execution_count": 25,
   "id": "1e893f47",
   "metadata": {},
   "outputs": [],
   "source": [
    "sales_by_method = df.groupby('Sales Method')['Total Sales'].sum().sort_values(ascending=False)"
   ]
  },
  {
   "cell_type": "code",
   "execution_count": 26,
   "id": "b26f743a",
   "metadata": {},
   "outputs": [
    {
     "data": {
      "image/png": "[encoded data removed]",
      "text/plain": [
       "<Figure size 720x432 with 1 Axes>"
      ]
     },
     "metadata": {
      "needs_background": "light"
     },
     "output_type": "display_data"
    }
   ],
   "source": [
    "# Create a bar chart to visualize sales by method\n",
    "plt.figure(figsize=(10, 6))\n",
    "sales_by_method.plot(kind='bar', color='orange')\n",
    "plt.title('Sales by Sales Method')\n",
    "plt.xlabel('Sales Method')\n",
    "plt.ylabel('Total Sales')\n",
    "plt.xticks(rotation=45)\n",
    "plt.tight_layout()"
   ]
  },
  {
   "cell_type": "markdown",
   "id": "2b75c313",
   "metadata": {},
   "source": [
    "# 7. Regional Sales Analysis"
   ]
  },
  {
   "cell_type": "code",
   "execution_count": 27,
   "id": "c794a715",
   "metadata": {},
   "outputs": [],
   "source": [
    "region_sales = df.groupby(['Region', 'State', 'City'])['Total Sales'].sum().reset_index()\n",
    "top_cities_by_profit = region_sales.sort_values('Total Sales', ascending=False).head(5)"
   ]
  },
  {
   "cell_type": "code",
   "execution_count": 28,
   "id": "05bcce3f",
   "metadata": {},
   "outputs": [
    {
     "data": {
      "image/png": "[encoded data removed]",
      "text/plain": [
       "<Figure size 720x432 with 1 Axes>"
      ]
     },
     "metadata": {
      "needs_background": "light"
     },
     "output_type": "display_data"
    }
   ],
   "source": [
    "# Create a bar chart to visualize top performing cities by profit\n",
    "plt.figure(figsize=(10, 6))\n",
    "plt.bar(top_cities_by_profit['City'], top_cities_by_profit['Total Sales'], color='green')\n",
    "plt.title('Top Performing Cities by Profit (Top 5)')\n",
    "plt.xlabel('City')\n",
    "plt.ylabel('Total Sales')\n",
    "plt.xticks(rotation=45)\n",
    "plt.tight_layout()"
   ]
  },
  {
   "cell_type": "markdown",
   "id": "929e56fc",
   "metadata": {},
   "source": [
    "# 9. Sales Trend Over Time (Yearly)"
   ]
  },
  {
   "cell_type": "code",
   "execution_count": 29,
   "id": "975f8059",
   "metadata": {},
   "outputs": [],
   "source": [
    "yearly_sales = df.resample('Y', on='Invoice Date')['Total Sales'].sum()"
   ]
  },
  {
   "cell_type": "code",
   "execution_count": 30,
   "id": "350bd542",
   "metadata": {},
   "outputs": [
    {
     "data": {
      "image/png": "[encoded data removed]",
      "text/plain": [
       "<Figure size 864x432 with 1 Axes>"
      ]
     },
     "metadata": {
      "needs_background": "light"
     },
     "output_type": "display_data"
    }
   ],
   "source": [
    "# Create a line chart to visualize yearly sales trend\n",
    "plt.figure(figsize=(12, 6))\n",
    "yearly_sales.plot(kind='line', marker='o', color='blue')\n",
    "plt.title('Yearly Sales Trend')\n",
    "plt.xlabel('Year')\n",
    "plt.ylabel('Total Sales')\n",
    "plt.grid()\n",
    "\n",
    "# Display the plots\n",
    "plt.show()"
   ]
  }
 ],
 "metadata": {
  "kernelspec": {
   "display_name": "Python 3 (ipykernel)",
   "language": "python",
   "name": "python3"
  },
  "language_info": {
   "codemirror_mode": {
    "name": "ipython",
    "version": 3
   },
   "file_extension": ".py",
   "mimetype": "text/x-python",
   "name": "python",
   "nbconvert_exporter": "python",
   "pygments_lexer": "ipython3",
   "version": "3.9.12"
  }
 },
 "nbformat": 4,
 "nbformat_minor": 5
}
